{
 "cells": [
  {
   "cell_type": "code",
   "execution_count": 47,
   "metadata": {
    "_cell_guid": "b1076dfc-b9ad-4769-8c92-a6c4dae69d19",
    "_uuid": "8f2839f25d086af736a60e9eeb907d3b93b6e0e5"
   },
   "outputs": [],
   "source": [
    "from random import seed\n",
    "from csv import reader\n",
    "from math import sqrt\n",
    "import random\n",
    "from collections import Counter\n",
    "from numpy import *\n",
    "import numpy as np\n",
    "from prettytable import PrettyTable"
   ]
  },
  {
   "cell_type": "markdown",
   "metadata": {},
   "source": [
    "# 1. Load a CSV file and divide the data to dev_data and test_data"
   ]
  },
  {
   "cell_type": "code",
   "execution_count": 48,
   "metadata": {},
   "outputs": [],
   "source": [
    "def load_csv(filename):\n",
    "    alldata = list()\n",
    "    with open(filename, 'r') as file:\n",
    "        csv_reader = reader(file)\n",
    "        for row in csv_reader:\n",
    "            if not row:\n",
    "                continue\n",
    "            alldata.append(row)\n",
    "    return alldata\n",
    "\n",
    "def str_to_float(dataset, column):\n",
    "    for row in dataset:\n",
    "        row[column] = float(row[column].strip())\n",
    "\n",
    "\n",
    "def str_to_int(dataset, column):\n",
    "    classes = [row[column] for row in dataset]\n",
    "    types = set(classes)\n",
    "    diction = dict()\n",
    "    for i, value in enumerate(types):\n",
    "        diction[value] = i\n",
    "    for row in dataset:\n",
    "        row[column] = diction[row[column]]\n",
    "    return diction\n",
    "\n",
    "filename = '/Users/jizhimeicrc/Desktop/iris.data.csv'\n",
    "dataset = load_csv(filename)\n",
    "for i in range(len(dataset[0])-1):\n",
    "    str_to_float(dataset, i)\n",
    "# convert class column to integers\n",
    "str_to_int(dataset, len(dataset[0])-1)\n",
    "length = int(len(dataset))\n",
    "# divide the dataset randomly\n",
    "a = list(range(length))\n",
    "random.seed(50)\n",
    "random.shuffle(a)\n",
    "dev_data = list()\n",
    "test_data = list()\n",
    "for index in a[:int(length*0.7)]:\n",
    "    dev_data.append(dataset[index])\n",
    "for index in a[int(length*0.7):]:\n",
    "    test_data.append(dataset[index])"
   ]
  },
  {
   "cell_type": "markdown",
   "metadata": {},
   "source": [
    "# 2. Implement the Euclidean distance"
   ]
  },
  {
   "cell_type": "code",
   "execution_count": 49,
   "metadata": {},
   "outputs": [],
   "source": [
    "def euclidean_distance(row1, row2):\n",
    "    distance = 0.0\n",
    "    for i in range(len(row1)-1):\n",
    "        distance += (row1[i] - row2[i])**2\n",
    "    return sqrt(distance)\n",
    "\n",
    "\n",
    "# Locate the most similar neighbors\n",
    "def get_euclidean_neighbors(dev, single_row, num_neighbors):\n",
    "    distances = list()\n",
    "    for dev_row in dev:\n",
    "        dist = euclidean_distance(single_row, dev_row)\n",
    "        distances.append((dev_row, dist))\n",
    "    distances.sort(key=lambda tup: tup[1])\n",
    "    neighbors = list()\n",
    "    for i in range(num_neighbors):\n",
    "        neighbors.append(distances[i][0])\n",
    "    return neighbors"
   ]
  },
  {
   "cell_type": "markdown",
   "metadata": {},
   "source": [
    "# 3. Implement the Normalized Euclidean distance"
   ]
  },
  {
   "cell_type": "code",
   "execution_count": 50,
   "metadata": {},
   "outputs": [],
   "source": [
    "def normalize_euclidean(row1, row2):\n",
    "    distance = 0.0\n",
    "    for i in range(len(row1) - 1):\n",
    "        average = (row1[i] - row2[i])/2\n",
    "        deno = sqrt((row1[i] - average) ** 2 + (row2[i] - average) ** 2)\n",
    "        molecule = row1[i] - row2[i]\n",
    "        distance += ((molecule / deno) ** 2)\n",
    "    return sqrt(distance)\n",
    "\n",
    "\n",
    "# Locate the most similar neighbors\n",
    "def get_normalized_neighbors(dev, single_row, num_neighbors):\n",
    "    distances = list()\n",
    "    for dev_row in dev:\n",
    "        dist = normalize_euclidean(single_row, dev_row)\n",
    "        distances.append((dev_row, dist))\n",
    "    distances.sort(key=lambda tup: tup[1])\n",
    "    neighbors = list()\n",
    "    for i in range(num_neighbors):\n",
    "        neighbors.append(distances[i][0])\n",
    "    return neighbors"
   ]
  },
  {
   "cell_type": "markdown",
   "metadata": {},
   "source": [
    "# 4. Implement the Cosine distance"
   ]
  },
  {
   "cell_type": "code",
   "execution_count": 51,
   "metadata": {},
   "outputs": [],
   "source": [
    "def cosine_distance(row1, row2):\n",
    "    product = 0.0\n",
    "    row1_dist = 0.0\n",
    "    row2_dist = 0.0\n",
    "    for i in range(len(row1)-1):\n",
    "        product += row1[i] * row2[i]\n",
    "    for i in range(len(row1)-1):\n",
    "        row1_dist += row1[i] * row1[i]\n",
    "    for i in range(len(row2)-1):\n",
    "        row2_dist += row2[i] * row2[i]\n",
    "    distance = product/(sqrt(row1_dist * row2_dist))\n",
    "    return 1 - distance\n",
    "\n",
    "\n",
    "def get_cosine_neighbors(dev, single_row, num_neighbors):\n",
    "    distances = list()\n",
    "    for dev_row in dev:\n",
    "        dist = cosine_distance(single_row, dev_row)\n",
    "        distances.append((dev_row, dist))\n",
    "\n",
    "    distances.sort(key=lambda tup: tup[1])\n",
    "    neighbors = list()\n",
    "    for i in range(num_neighbors):\n",
    "        neighbors.append(distances[i][0])\n",
    "    return neighbors"
   ]
  },
  {
   "cell_type": "markdown",
   "metadata": {},
   "source": [
    "# 5. kNN Algorithm"
   ]
  },
  {
   "cell_type": "code",
   "execution_count": 52,
   "metadata": {},
   "outputs": [],
   "source": [
    "def knn(data, num_neighbors, algorithm):\n",
    "    correct_predict = 0\n",
    "    for element in data:\n",
    "        newdata = data.copy()\n",
    "        newdata.remove(element)\n",
    "        neighbors = algorithm(newdata, element, num_neighbors)\n",
    "        neighbors_labels = list()\n",
    "        for rows in neighbors:\n",
    "            neighbors_labels.append(rows[-1])\n",
    "        counter = Counter(neighbors_labels)\n",
    "        pred_label = counter.most_common(1)[0][0]\n",
    "        if pred_label == element[-1]:\n",
    "            correct_predict += 1\n",
    "\n",
    "    return correct_predict"
   ]
  },
  {
   "cell_type": "markdown",
   "metadata": {},
   "source": [
    "# 6. Calculate all the accuracy"
   ]
  },
  {
   "cell_type": "markdown",
   "metadata": {},
   "source": [
    "## 6.1 euclidean distance"
   ]
  },
  {
   "cell_type": "code",
   "execution_count": 53,
   "metadata": {},
   "outputs": [
    {
     "name": "stdout",
     "output_type": "stream",
     "text": [
      "0.9619047619047619\n",
      "0.9523809523809523\n",
      "0.9714285714285714\n",
      "0.9809523809523809\n"
     ]
    }
   ],
   "source": [
    "accuracy11 = knn(dev_data, 1, get_euclidean_neighbors)/len(dev_data)\n",
    "print(accuracy11)\n",
    "accuracy12 = knn(dev_data, 3, get_euclidean_neighbors)/len(dev_data)\n",
    "print(accuracy12)\n",
    "accuracy13 = knn(dev_data, 5, get_euclidean_neighbors)/len(dev_data)\n",
    "print(accuracy13)\n",
    "accuracy14 = knn(dev_data, 7, get_euclidean_neighbors)/len(dev_data)\n",
    "print(accuracy14)"
   ]
  },
  {
   "cell_type": "markdown",
   "metadata": {},
   "source": [
    "## 6.2 cosine distance"
   ]
  },
  {
   "cell_type": "code",
   "execution_count": 54,
   "metadata": {
    "scrolled": true
   },
   "outputs": [
    {
     "name": "stdout",
     "output_type": "stream",
     "text": [
      "0.9238095238095239\n",
      "0.9523809523809523\n",
      "0.9523809523809523\n",
      "0.9619047619047619\n"
     ]
    }
   ],
   "source": [
    "accuracy21 = knn(dev_data, 1, get_cosine_neighbors)/len(dev_data)\n",
    "print(accuracy21)\n",
    "accuracy22 = knn(dev_data, 3, get_cosine_neighbors)/len(dev_data)\n",
    "print(accuracy22)\n",
    "accuracy23 = knn(dev_data, 5, get_cosine_neighbors)/len(dev_data)\n",
    "print(accuracy23)\n",
    "accuracy24 = knn(dev_data, 7, get_cosine_neighbors)/len(dev_data)\n",
    "print(accuracy24)"
   ]
  },
  {
   "cell_type": "markdown",
   "metadata": {},
   "source": [
    "## 6.3 normalized euclidean distance"
   ]
  },
  {
   "cell_type": "code",
   "execution_count": 55,
   "metadata": {},
   "outputs": [
    {
     "name": "stdout",
     "output_type": "stream",
     "text": [
      "0.9714285714285714\n",
      "0.9714285714285714\n",
      "0.9714285714285714\n",
      "0.9714285714285714\n"
     ]
    }
   ],
   "source": [
    "accuracy31 = knn(dev_data, 1, get_normalized_neighbors)/len(dev_data)\n",
    "print(accuracy31)\n",
    "accuracy32 = knn(dev_data, 3, get_normalized_neighbors)/len(dev_data)\n",
    "print(accuracy32)\n",
    "accuracy33 = knn(dev_data, 5, get_normalized_neighbors)/len(dev_data)\n",
    "print(accuracy33)\n",
    "accuracy34 = knn(dev_data, 7, get_normalized_neighbors)/len(dev_data)\n",
    "print(accuracy34)"
   ]
  },
  {
   "cell_type": "markdown",
   "metadata": {},
   "source": [
    "## 6.4 accuracy result table"
   ]
  },
  {
   "cell_type": "code",
   "execution_count": 56,
   "metadata": {},
   "outputs": [
    {
     "name": "stdout",
     "output_type": "stream",
     "text": [
      "+-----+--------------------+--------------------+-------------------------------+\n",
      "|     | euclidean distance |  cosine distance   | normalized euclidean distance |\n",
      "+-----+--------------------+--------------------+-------------------------------+\n",
      "| k=1 | 0.9619047619047619 | 0.9238095238095239 |       0.9714285714285714      |\n",
      "| k=3 | 0.9523809523809523 | 0.9523809523809523 |       0.9714285714285714      |\n",
      "| k=5 | 0.9714285714285714 | 0.9523809523809523 |       0.9714285714285714      |\n",
      "| k=7 | 0.9809523809523809 | 0.9619047619047619 |       0.9714285714285714      |\n",
      "+-----+--------------------+--------------------+-------------------------------+\n"
     ]
    }
   ],
   "source": [
    "x=PrettyTable()\n",
    "x.add_column(\" \", [\"k=1\", \"k=3\", \"k=5\", \"k=7\"])\n",
    "list1 = [accuracy11, accuracy12, accuracy13, accuracy14]\n",
    "list2 = [accuracy21, accuracy22, accuracy23, accuracy24]\n",
    "list3 = [accuracy31, accuracy32, accuracy33, accuracy34]\n",
    "x.add_column(\"euclidean distance\", list1)\n",
    "x.add_column(\"cosine distance\", list2)\n",
    "x.add_column(\"normalized euclidean distance\", list3)\n",
    "print(x)"
   ]
  },
  {
   "cell_type": "markdown",
   "metadata": {},
   "source": [
    "## 6.5 So the best accuracy is using euclidean distance with k = 7. Let's applying this model to the test data."
   ]
  },
  {
   "cell_type": "code",
   "execution_count": 57,
   "metadata": {},
   "outputs": [
    {
     "name": "stdout",
     "output_type": "stream",
     "text": [
      "0.9555555555555556\n"
     ]
    }
   ],
   "source": [
    "accuracy_test = knn(test_data, 7, get_euclidean_neighbors)/len(test_data)\n",
    "print(accuracy_test)"
   ]
  },
  {
   "cell_type": "code",
   "execution_count": null,
   "metadata": {},
   "outputs": [],
   "source": []
  }
 ],
 "metadata": {
  "kernelspec": {
   "display_name": "Python 3",
   "language": "python",
   "name": "python3"
  },
  "language_info": {
   "codemirror_mode": {
    "name": "ipython",
    "version": 3
   },
   "file_extension": ".py",
   "mimetype": "text/x-python",
   "name": "python",
   "nbconvert_exporter": "python",
   "pygments_lexer": "ipython3",
   "version": "3.7.2"
  }
 },
 "nbformat": 4,
 "nbformat_minor": 4
}
